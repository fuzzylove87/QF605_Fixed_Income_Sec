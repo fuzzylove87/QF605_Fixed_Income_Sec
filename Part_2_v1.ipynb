{
 "cells": [
  {
   "cell_type": "code",
   "execution_count": 239,
   "metadata": {},
   "outputs": [],
   "source": [
    "import pandas as pd\n",
    "import numpy as np\n",
    "import scipy.stats as ss\n",
    "from scipy.optimize import brentq\n",
    "import matplotlib.pylab as plt\n",
    "import datetime as dt\n",
    "from scipy import interpolate\n",
    "from scipy.optimize import least_squares\n",
    "from math import exp"
   ]
  },
  {
   "cell_type": "markdown",
   "metadata": {},
   "source": [
    "Import data"
   ]
  },
  {
   "cell_type": "code",
   "execution_count": 2,
   "metadata": {},
   "outputs": [
    {
     "data": {
      "text/html": [
       "<div>\n",
       "<style scoped>\n",
       "    .dataframe tbody tr th:only-of-type {\n",
       "        vertical-align: middle;\n",
       "    }\n",
       "\n",
       "    .dataframe tbody tr th {\n",
       "        vertical-align: top;\n",
       "    }\n",
       "\n",
       "    .dataframe thead th {\n",
       "        text-align: right;\n",
       "    }\n",
       "</style>\n",
       "<table border=\"1\" class=\"dataframe\">\n",
       "  <thead>\n",
       "    <tr style=\"text-align: right;\">\n",
       "      <th></th>\n",
       "      <th></th>\n",
       "      <th>-200bps</th>\n",
       "      <th>-150bps</th>\n",
       "      <th>-100bps</th>\n",
       "      <th>-50bps</th>\n",
       "      <th>-25bps</th>\n",
       "      <th>ATM</th>\n",
       "      <th>+25bps</th>\n",
       "      <th>+50bps</th>\n",
       "      <th>+100bps</th>\n",
       "      <th>+150bps</th>\n",
       "      <th>+200bps</th>\n",
       "    </tr>\n",
       "    <tr>\n",
       "      <th>Expiry</th>\n",
       "      <th>Tenor</th>\n",
       "      <th></th>\n",
       "      <th></th>\n",
       "      <th></th>\n",
       "      <th></th>\n",
       "      <th></th>\n",
       "      <th></th>\n",
       "      <th></th>\n",
       "      <th></th>\n",
       "      <th></th>\n",
       "      <th></th>\n",
       "      <th></th>\n",
       "    </tr>\n",
       "  </thead>\n",
       "  <tbody>\n",
       "    <tr>\n",
       "      <th rowspan=\"5\" valign=\"top\">1Y</th>\n",
       "      <th>1Y</th>\n",
       "      <td>91.57</td>\n",
       "      <td>62.03</td>\n",
       "      <td>44.130</td>\n",
       "      <td>31.224</td>\n",
       "      <td>26.182</td>\n",
       "      <td>22.50</td>\n",
       "      <td>20.96</td>\n",
       "      <td>21.40</td>\n",
       "      <td>24.34</td>\n",
       "      <td>27.488</td>\n",
       "      <td>30.297</td>\n",
       "    </tr>\n",
       "    <tr>\n",
       "      <th>2Y</th>\n",
       "      <td>83.27</td>\n",
       "      <td>61.24</td>\n",
       "      <td>46.570</td>\n",
       "      <td>35.807</td>\n",
       "      <td>31.712</td>\n",
       "      <td>28.72</td>\n",
       "      <td>27.12</td>\n",
       "      <td>26.84</td>\n",
       "      <td>28.51</td>\n",
       "      <td>31.025</td>\n",
       "      <td>33.523</td>\n",
       "    </tr>\n",
       "    <tr>\n",
       "      <th>3Y</th>\n",
       "      <td>73.92</td>\n",
       "      <td>56.87</td>\n",
       "      <td>44.770</td>\n",
       "      <td>35.745</td>\n",
       "      <td>32.317</td>\n",
       "      <td>29.78</td>\n",
       "      <td>28.29</td>\n",
       "      <td>27.80</td>\n",
       "      <td>28.77</td>\n",
       "      <td>30.725</td>\n",
       "      <td>32.833</td>\n",
       "    </tr>\n",
       "    <tr>\n",
       "      <th>5Y</th>\n",
       "      <td>55.19</td>\n",
       "      <td>44.64</td>\n",
       "      <td>36.510</td>\n",
       "      <td>30.242</td>\n",
       "      <td>27.851</td>\n",
       "      <td>26.07</td>\n",
       "      <td>24.98</td>\n",
       "      <td>24.56</td>\n",
       "      <td>25.12</td>\n",
       "      <td>26.536</td>\n",
       "      <td>28.165</td>\n",
       "    </tr>\n",
       "    <tr>\n",
       "      <th>10Y</th>\n",
       "      <td>41.18</td>\n",
       "      <td>35.04</td>\n",
       "      <td>30.207</td>\n",
       "      <td>26.619</td>\n",
       "      <td>25.351</td>\n",
       "      <td>24.47</td>\n",
       "      <td>23.98</td>\n",
       "      <td>23.82</td>\n",
       "      <td>24.25</td>\n",
       "      <td>25.204</td>\n",
       "      <td>26.355</td>\n",
       "    </tr>\n",
       "  </tbody>\n",
       "</table>\n",
       "</div>"
      ],
      "text/plain": [
       "              -200bps  -150bps  -100bps  -50bps  -25bps    ATM  +25bps  \\\n",
       "Expiry Tenor                                                             \n",
       "1Y     1Y       91.57    62.03   44.130  31.224  26.182  22.50   20.96   \n",
       "       2Y       83.27    61.24   46.570  35.807  31.712  28.72   27.12   \n",
       "       3Y       73.92    56.87   44.770  35.745  32.317  29.78   28.29   \n",
       "       5Y       55.19    44.64   36.510  30.242  27.851  26.07   24.98   \n",
       "       10Y      41.18    35.04   30.207  26.619  25.351  24.47   23.98   \n",
       "\n",
       "              +50bps  +100bps  +150bps  +200bps  \n",
       "Expiry Tenor                                     \n",
       "1Y     1Y      21.40    24.34   27.488   30.297  \n",
       "       2Y      26.84    28.51   31.025   33.523  \n",
       "       3Y      27.80    28.77   30.725   32.833  \n",
       "       5Y      24.56    25.12   26.536   28.165  \n",
       "       10Y     23.82    24.25   25.204   26.355  "
      ]
     },
     "execution_count": 2,
     "metadata": {},
     "output_type": "execute_result"
    }
   ],
   "source": [
    "data=pd.read_csv('IR_Data.csv',usecols=range(13),index_col=['Expiry','Tenor'],skiprows=[16,17,18])\n",
    "data.head()"
   ]
  },
  {
   "cell_type": "code",
   "execution_count": 3,
   "metadata": {},
   "outputs": [
    {
     "data": {
      "text/html": [
       "<div>\n",
       "<style scoped>\n",
       "    .dataframe tbody tr th:only-of-type {\n",
       "        vertical-align: middle;\n",
       "    }\n",
       "\n",
       "    .dataframe tbody tr th {\n",
       "        vertical-align: top;\n",
       "    }\n",
       "\n",
       "    .dataframe thead th {\n",
       "        text-align: right;\n",
       "    }\n",
       "</style>\n",
       "<table border=\"1\" class=\"dataframe\">\n",
       "  <thead>\n",
       "    <tr style=\"text-align: right;\">\n",
       "      <th></th>\n",
       "      <th>1Y</th>\n",
       "      <th>2Y</th>\n",
       "      <th>3Y</th>\n",
       "      <th>5Y</th>\n",
       "      <th>10Y</th>\n",
       "    </tr>\n",
       "  </thead>\n",
       "  <tbody>\n",
       "    <tr>\n",
       "      <th>1Y</th>\n",
       "      <td>0.032008</td>\n",
       "      <td>0.033260</td>\n",
       "      <td>0.034012</td>\n",
       "      <td>0.035259</td>\n",
       "      <td>0.038436</td>\n",
       "    </tr>\n",
       "    <tr>\n",
       "      <th>5Y</th>\n",
       "      <td>0.039302</td>\n",
       "      <td>0.040103</td>\n",
       "      <td>0.040105</td>\n",
       "      <td>0.041129</td>\n",
       "      <td>0.043676</td>\n",
       "    </tr>\n",
       "    <tr>\n",
       "      <th>10Y</th>\n",
       "      <td>0.042245</td>\n",
       "      <td>0.043174</td>\n",
       "      <td>0.044157</td>\n",
       "      <td>0.046313</td>\n",
       "      <td>0.053545</td>\n",
       "    </tr>\n",
       "  </tbody>\n",
       "</table>\n",
       "</div>"
      ],
      "text/plain": [
       "           1Y        2Y        3Y        5Y       10Y\n",
       "1Y   0.032008  0.033260  0.034012  0.035259  0.038436\n",
       "5Y   0.039302  0.040103  0.040105  0.041129  0.043676\n",
       "10Y  0.042245  0.043174  0.044157  0.046313  0.053545"
      ]
     },
     "execution_count": 3,
     "metadata": {},
     "output_type": "execute_result"
    }
   ],
   "source": [
    "Swap=pd.read_excel('ATM.xlsx')\n",
    "Swap"
   ]
  },
  {
   "cell_type": "code",
   "execution_count": 178,
   "metadata": {},
   "outputs": [],
   "source": [
    "Expiry=np.array(['1Y','5Y','10Y'])\n",
    "Tenor=np.array(['1Y','2Y','3Y','5Y','10Y'])\n",
    "s=np.array([-200,-150,-100,-50,-25,0,25,50,100,150,200])\n",
    "Notion=10_000"
   ]
  },
  {
   "cell_type": "markdown",
   "metadata": {},
   "source": [
    "SABR Calibration"
   ]
  },
  {
   "cell_type": "code",
   "execution_count": 83,
   "metadata": {},
   "outputs": [],
   "source": [
    "def SABR(F, K, T, alpha, beta, rho, nu):\n",
    "    X = K\n",
    "    if F == K:\n",
    "        numer1 = (((1 - beta)**2)/24)*alpha*alpha/(F**(2 - 2*beta))\n",
    "        numer2 = 0.25*rho*beta*nu*alpha/(F**(1 - beta))\n",
    "        numer3 = ((2 - 3*rho*rho)/24)*nu*nu\n",
    "        VolAtm = alpha*(1 + (numer1 + numer2 + numer3)*T)/(F**(1-beta))\n",
    "        sabrsigma = VolAtm\n",
    "    else:\n",
    "        z = (nu/alpha)*((F*X)**(0.5*(1-beta)))*np.log(F/X)\n",
    "        zhi = np.log((((1 - 2*rho*z + z*z)**0.5) + z - rho)/(1 - rho))\n",
    "        numer1 = (((1 - beta)**2)/24)*((alpha*alpha)/((F*X)**(1 - beta)))\n",
    "        numer2 = 0.25*rho*beta*nu*alpha/((F*X)**((1 - beta)/2))\n",
    "        numer3 = ((2 - 3*rho*rho)/24)*nu*nu\n",
    "        numer = alpha*(1 + (numer1 + numer2 + numer3)*T)*z\n",
    "        denom1 = ((1 - beta)**2/24)*(np.log(F/X))**2\n",
    "        denom2 = (((1 - beta)**4)/1920)*((np.log(F/X))**4)\n",
    "        denom = ((F*X)**((1 - beta)/2))*(1 + denom1 + denom2)*zhi\n",
    "        sabrsigma = numer/denom\n",
    "    return sabrsigma"
   ]
  },
  {
   "cell_type": "code",
   "execution_count": 84,
   "metadata": {},
   "outputs": [],
   "source": [
    "def sabrcalibration(x, strikes, vols, F, T):\n",
    "    err = 0.0\n",
    "    for i, vol in enumerate(vols):\n",
    "        err += (vol - SABR(F, strikes[i], T,\n",
    "                           x[0], 0.9, x[1], x[2]))**2\n",
    "    return err"
   ]
  },
  {
   "cell_type": "code",
   "execution_count": 171,
   "metadata": {},
   "outputs": [],
   "source": [
    "SABR_Alpha=pd.DataFrame(np.zeros((3,5)),index=Expiry,columns=Tenor)\n",
    "SABR_Rho=pd.DataFrame(np.zeros((3,5)),index=Expiry,columns=Tenor)\n",
    "SABR_Nu=pd.DataFrame(np.zeros((3,5)),index=Expiry,columns=Tenor)\n",
    "initialGuess_sabr=[0.1,-1,1]"
   ]
  },
  {
   "cell_type": "code",
   "execution_count": 172,
   "metadata": {},
   "outputs": [],
   "source": [
    "for ex in Expiry:\n",
    "    for te in Tenor:             #Set sigma,T,ATM,strikes\n",
    "        sigma=data.loc[(ex,te), 'ATM']/100\n",
    "        T=int(ex[:-1])\n",
    "        ATM=Swap[te][ex] #ATM and K changes\n",
    "        strikes=s*0.0001+ATM\n",
    "        res=least_squares(lambda x: sabrcalibration(x,\n",
    "                                           strikes,\n",
    "                                           data.loc[ex,te].values/100,# [1,1] change to [ex,te]\n",
    "                                           ATM,\n",
    "                                           T),\n",
    "                          initialGuess_sabr,\n",
    "                          bounds=([0,-1,0],[np.inf,1,np.inf]))\n",
    "        SABR_Alpha[te][ex]=res.x[0]\n",
    "        SABR_Rho[te][ex]=res.x[1]\n",
    "        SABR_Nu[te][ex]=res.x[2]"
   ]
  },
  {
   "cell_type": "code",
   "execution_count": 175,
   "metadata": {},
   "outputs": [
    {
     "data": {
      "text/html": [
       "<div>\n",
       "<style scoped>\n",
       "    .dataframe tbody tr th:only-of-type {\n",
       "        vertical-align: middle;\n",
       "    }\n",
       "\n",
       "    .dataframe tbody tr th {\n",
       "        vertical-align: top;\n",
       "    }\n",
       "\n",
       "    .dataframe thead th {\n",
       "        text-align: right;\n",
       "    }\n",
       "</style>\n",
       "<table border=\"1\" class=\"dataframe\">\n",
       "  <thead>\n",
       "    <tr style=\"text-align: right;\">\n",
       "      <th></th>\n",
       "      <th>1Y</th>\n",
       "      <th>2Y</th>\n",
       "      <th>3Y</th>\n",
       "      <th>5Y</th>\n",
       "      <th>10Y</th>\n",
       "    </tr>\n",
       "  </thead>\n",
       "  <tbody>\n",
       "    <tr>\n",
       "      <th>1Y</th>\n",
       "      <td>0.139070</td>\n",
       "      <td>0.184645</td>\n",
       "      <td>0.196850</td>\n",
       "      <td>0.177954</td>\n",
       "      <td>0.169842</td>\n",
       "    </tr>\n",
       "    <tr>\n",
       "      <th>5Y</th>\n",
       "      <td>0.166518</td>\n",
       "      <td>0.199530</td>\n",
       "      <td>0.210331</td>\n",
       "      <td>0.436740</td>\n",
       "      <td>0.520182</td>\n",
       "    </tr>\n",
       "    <tr>\n",
       "      <th>10Y</th>\n",
       "      <td>0.178446</td>\n",
       "      <td>0.184394</td>\n",
       "      <td>0.188978</td>\n",
       "      <td>0.285926</td>\n",
       "      <td>0.329694</td>\n",
       "    </tr>\n",
       "  </tbody>\n",
       "</table>\n",
       "</div>"
      ],
      "text/plain": [
       "           1Y        2Y        3Y        5Y       10Y\n",
       "1Y   0.139070  0.184645  0.196850  0.177954  0.169842\n",
       "5Y   0.166518  0.199530  0.210331  0.436740  0.520182\n",
       "10Y  0.178446  0.184394  0.188978  0.285926  0.329694"
      ]
     },
     "execution_count": 175,
     "metadata": {},
     "output_type": "execute_result"
    }
   ],
   "source": [
    "SABR_Alpha"
   ]
  },
  {
   "cell_type": "code",
   "execution_count": 176,
   "metadata": {},
   "outputs": [
    {
     "data": {
      "text/html": [
       "<div>\n",
       "<style scoped>\n",
       "    .dataframe tbody tr th:only-of-type {\n",
       "        vertical-align: middle;\n",
       "    }\n",
       "\n",
       "    .dataframe tbody tr th {\n",
       "        vertical-align: top;\n",
       "    }\n",
       "\n",
       "    .dataframe thead th {\n",
       "        text-align: right;\n",
       "    }\n",
       "</style>\n",
       "<table border=\"1\" class=\"dataframe\">\n",
       "  <thead>\n",
       "    <tr style=\"text-align: right;\">\n",
       "      <th></th>\n",
       "      <th>1Y</th>\n",
       "      <th>2Y</th>\n",
       "      <th>3Y</th>\n",
       "      <th>5Y</th>\n",
       "      <th>10Y</th>\n",
       "    </tr>\n",
       "  </thead>\n",
       "  <tbody>\n",
       "    <tr>\n",
       "      <th>1Y</th>\n",
       "      <td>-0.633233</td>\n",
       "      <td>-0.525121</td>\n",
       "      <td>-0.482855</td>\n",
       "      <td>-0.413884</td>\n",
       "      <td>-0.254055</td>\n",
       "    </tr>\n",
       "    <tr>\n",
       "      <th>5Y</th>\n",
       "      <td>-0.585306</td>\n",
       "      <td>-0.547193</td>\n",
       "      <td>-0.549855</td>\n",
       "      <td>-0.780934</td>\n",
       "      <td>-0.838711</td>\n",
       "    </tr>\n",
       "    <tr>\n",
       "      <th>10Y</th>\n",
       "      <td>-0.549379</td>\n",
       "      <td>-0.508328</td>\n",
       "      <td>-0.492324</td>\n",
       "      <td>-0.666385</td>\n",
       "      <td>-0.705744</td>\n",
       "    </tr>\n",
       "  </tbody>\n",
       "</table>\n",
       "</div>"
      ],
      "text/plain": [
       "           1Y        2Y        3Y        5Y       10Y\n",
       "1Y  -0.633233 -0.525121 -0.482855 -0.413884 -0.254055\n",
       "5Y  -0.585306 -0.547193 -0.549855 -0.780934 -0.838711\n",
       "10Y -0.549379 -0.508328 -0.492324 -0.666385 -0.705744"
      ]
     },
     "execution_count": 176,
     "metadata": {},
     "output_type": "execute_result"
    }
   ],
   "source": [
    "SABR_Rho"
   ]
  },
  {
   "cell_type": "code",
   "execution_count": 177,
   "metadata": {},
   "outputs": [
    {
     "data": {
      "text/html": [
       "<div>\n",
       "<style scoped>\n",
       "    .dataframe tbody tr th:only-of-type {\n",
       "        vertical-align: middle;\n",
       "    }\n",
       "\n",
       "    .dataframe tbody tr th {\n",
       "        vertical-align: top;\n",
       "    }\n",
       "\n",
       "    .dataframe thead th {\n",
       "        text-align: right;\n",
       "    }\n",
       "</style>\n",
       "<table border=\"1\" class=\"dataframe\">\n",
       "  <thead>\n",
       "    <tr style=\"text-align: right;\">\n",
       "      <th></th>\n",
       "      <th>1Y</th>\n",
       "      <th>2Y</th>\n",
       "      <th>3Y</th>\n",
       "      <th>5Y</th>\n",
       "      <th>10Y</th>\n",
       "    </tr>\n",
       "  </thead>\n",
       "  <tbody>\n",
       "    <tr>\n",
       "      <th>1Y</th>\n",
       "      <td>2.049566</td>\n",
       "      <td>1.677478</td>\n",
       "      <td>1.438206</td>\n",
       "      <td>1.065924</td>\n",
       "      <td>0.794125</td>\n",
       "    </tr>\n",
       "    <tr>\n",
       "      <th>5Y</th>\n",
       "      <td>1.340616</td>\n",
       "      <td>1.062859</td>\n",
       "      <td>0.937577</td>\n",
       "      <td>1.098894</td>\n",
       "      <td>0.927944</td>\n",
       "    </tr>\n",
       "    <tr>\n",
       "      <th>10Y</th>\n",
       "      <td>1.012370</td>\n",
       "      <td>0.896365</td>\n",
       "      <td>0.831887</td>\n",
       "      <td>0.919166</td>\n",
       "      <td>0.827552</td>\n",
       "    </tr>\n",
       "  </tbody>\n",
       "</table>\n",
       "</div>"
      ],
      "text/plain": [
       "           1Y        2Y        3Y        5Y       10Y\n",
       "1Y   2.049566  1.677478  1.438206  1.065924  0.794125\n",
       "5Y   1.340616  1.062859  0.937577  1.098894  0.927944\n",
       "10Y  1.012370  0.896365  0.831887  0.919166  0.827552"
      ]
     },
     "execution_count": 177,
     "metadata": {},
     "output_type": "execute_result"
    }
   ],
   "source": [
    "SABR_Nu"
   ]
  },
  {
   "cell_type": "code",
   "execution_count": 154,
   "metadata": {},
   "outputs": [
    {
     "name": "stdout",
     "output_type": "stream",
     "text": [
      "1Y 1Y\n"
     ]
    },
    {
     "data": {
      "image/png": "[encoded data removed]",
      "text/plain": [
       "<Figure size 432x288 with 1 Axes>"
      ]
     },
     "metadata": {},
     "output_type": "display_data"
    },
    {
     "name": "stdout",
     "output_type": "stream",
     "text": [
      "1Y 2Y\n"
     ]
    },
    {
     "data": {
      "image/png": "[encoded data removed]",
      "text/plain": [
       "<Figure size 432x288 with 1 Axes>"
      ]
     },
     "metadata": {},
     "output_type": "display_data"
    },
    {
     "name": "stdout",
     "output_type": "stream",
     "text": [
      "1Y 3Y\n"
     ]
    },
    {
     "data": {
      "image/png": "[encoded data removed]",
      "text/plain": [
       "<Figure size 432x288 with 1 Axes>"
      ]
     },
     "metadata": {},
     "output_type": "display_data"
    },
    {
     "name": "stdout",
     "output_type": "stream",
     "text": [
      "1Y 5Y\n"
     ]
    },
    {
     "data": {
      "image/png": "[encoded data removed]",
      "text/plain": [
       "<Figure size 432x288 with 1 Axes>"
      ]
     },
     "metadata": {},
     "output_type": "display_data"
    },
    {
     "name": "stdout",
     "output_type": "stream",
     "text": [
      "1Y 10Y\n"
     ]
    },
    {
     "data": {
      "image/png": "[encoded data removed]",
      "text/plain": [
       "<Figure size 432x288 with 1 Axes>"
      ]
     },
     "metadata": {},
     "output_type": "display_data"
    },
    {
     "name": "stdout",
     "output_type": "stream",
     "text": [
      "5Y 1Y\n"
     ]
    },
    {
     "data": {
      "image/png": "[encoded data removed]",
      "text/plain": [
       "<Figure size 432x288 with 1 Axes>"
      ]
     },
     "metadata": {},
     "output_type": "display_data"
    },
    {
     "name": "stdout",
     "output_type": "stream",
     "text": [
      "5Y 2Y\n"
     ]
    },
    {
     "data": {
      "image/png": "[encoded data removed]",
      "text/plain": [
       "<Figure size 432x288 with 1 Axes>"
      ]
     },
     "metadata": {},
     "output_type": "display_data"
    },
    {
     "name": "stdout",
     "output_type": "stream",
     "text": [
      "5Y 3Y\n"
     ]
    },
    {
     "data": {
      "image/png": "[encoded data removed]",
      "text/plain": [
       "<Figure size 432x288 with 1 Axes>"
      ]
     },
     "metadata": {},
     "output_type": "display_data"
    },
    {
     "name": "stdout",
     "output_type": "stream",
     "text": [
      "5Y 5Y\n"
     ]
    },
    {
     "data": {
      "image/png": "[encoded data removed]",
      "text/plain": [
       "<Figure size 432x288 with 1 Axes>"
      ]
     },
     "metadata": {},
     "output_type": "display_data"
    },
    {
     "name": "stdout",
     "output_type": "stream",
     "text": [
      "5Y 10Y\n"
     ]
    },
    {
     "data": {
      "image/png": "[encoded data removed]",
      "text/plain": [
       "<Figure size 432x288 with 1 Axes>"
      ]
     },
     "metadata": {},
     "output_type": "display_data"
    },
    {
     "name": "stdout",
     "output_type": "stream",
     "text": [
      "10Y 1Y\n"
     ]
    },
    {
     "data": {
      "image/png": "[encoded data removed]",
      "text/plain": [
       "<Figure size 432x288 with 1 Axes>"
      ]
     },
     "metadata": {},
     "output_type": "display_data"
    },
    {
     "name": "stdout",
     "output_type": "stream",
     "text": [
      "10Y 2Y\n"
     ]
    },
    {
     "data": {
      "image/png": "[encoded data removed]",
      "text/plain": [
       "<Figure size 432x288 with 1 Axes>"
      ]
     },
     "metadata": {},
     "output_type": "display_data"
    },
    {
     "name": "stdout",
     "output_type": "stream",
     "text": [
      "10Y 3Y\n"
     ]
    },
    {
     "data": {
      "image/png": "[encoded data removed]",
      "text/plain": [
       "<Figure size 432x288 with 1 Axes>"
      ]
     },
     "metadata": {},
     "output_type": "display_data"
    },
    {
     "name": "stdout",
     "output_type": "stream",
     "text": [
      "10Y 5Y\n"
     ]
    },
    {
     "data": {
      "image/png": "[encoded data removed]",
      "text/plain": [
       "<Figure size 432x288 with 1 Axes>"
      ]
     },
     "metadata": {},
     "output_type": "display_data"
    },
    {
     "name": "stdout",
     "output_type": "stream",
     "text": [
      "10Y 10Y\n"
     ]
    },
    {
     "data": {
      "image/png": "[encoded data removed]",
      "text/plain": [
       "<Figure size 432x288 with 1 Axes>"
      ]
     },
     "metadata": {},
     "output_type": "display_data"
    }
   ],
   "source": [
    "for ex in Expiry:\n",
    "    for te,i in zip(Tenor,range(6)):\n",
    "        print(ex,te)\n",
    "        ATM=Swap[te][ex] #ATM and K changes\n",
    "        strikes=s*0.0001+ATM\n",
    "        T=int(ex[:-1])\n",
    "        #plt.subplot(3,2,i+1)\n",
    "        plt.plot(strikes,data.loc[ex,te].values/100,'go')\n",
    "        plt.plot(strikes,[SABR(ATM,x,T,SABR_Alpha.loc[ex,te],0.9,SABR_Rho.loc[ex,te],SABR_Nu.loc[ex,te]) for x in strikes])\n",
    "        plt.show()"
   ]
  },
  {
   "cell_type": "markdown",
   "metadata": {},
   "source": [
    "Displaced-Diffusion Calibration"
   ]
  },
  {
   "cell_type": "code",
   "execution_count": 99,
   "metadata": {},
   "outputs": [],
   "source": [
    "def DD_Model (F, K, sigma, T, Beta, TYPE):\n",
    "    r=1\n",
    "    if Beta==0:\n",
    "        x_Star = (K-F)/(F*sigma*np.sqrt(T))\n",
    "        Call=np.exp(-r*T)*((F-K)*ss.norm.cdf(-x_Star,0,1)+\n",
    "                           F*sigma*np.sqrt(T)*ss.norm.pdf(-x_Star,0,1))\n",
    "        Put=np.exp(-r*T)*((K-F)*ss.norm.cdf(x_Star,0,1)+\n",
    "                             F*sigma*np.sqrt(T)*ss.norm.pdf(-x_Star,0,1))\n",
    "    else:\n",
    "        F=F/Beta\n",
    "        K=K+((1-Beta))*F\n",
    "        sigma=Beta*sigma\n",
    "        d1 = (np.log(F/K)+(sigma**2)/2*T)/(sigma*np.sqrt(T))\n",
    "        d2 = (np.log(F/K)-(sigma**2)/2*T)/(sigma*np.sqrt(T))\n",
    "        Call = np.exp(-r*T)*(F*ss.norm.cdf(d1,0,1)-K*ss.norm.cdf(d2,0,1))\n",
    "        Put = np.exp(-r*T)*(K*ss.norm.cdf(-d2,0,1)-F*ss.norm.cdf(-d1,0,1))\n",
    "    if TYPE == 'Put':\n",
    "        return Put\n",
    "    else:\n",
    "        return Call"
   ]
  },
  {
   "cell_type": "code",
   "execution_count": 282,
   "metadata": {},
   "outputs": [],
   "source": [
    "def impliedVolatility(S, K, price, T, Beta):\n",
    "    impliedVol = brentq(lambda x: price - \n",
    "                        DD_Model(S, K,  x, T, 1, 'Call'),\n",
    "                        1e-6, 1)\n",
    "    return impliedVol"
   ]
  },
  {
   "cell_type": "code",
   "execution_count": 247,
   "metadata": {},
   "outputs": [],
   "source": [
    "def DD_Calibrate_Price(x,ATM,strikes,T,vols):\n",
    "    err=0.0\n",
    "    for i,vol in zip(range(len(strikes)), vols):\n",
    "        price1 = Notion*DD_Model(ATM, strikes[i], vol, T, 1,'Call') #Beta=1 using Black76\n",
    "        price2 = Notion*DD_Model(ATM, strikes[i], x[0], T, x[1], 'Call')\n",
    "        err += (price1 - price2)**2\n",
    "        #plt.scatter(strikes[i],price1,color='green')\n",
    "    return err"
   ]
  },
  {
   "cell_type": "code",
   "execution_count": 272,
   "metadata": {},
   "outputs": [],
   "source": [
    "initialGuess_DD=[0.5,0.2]\n",
    "Cal_Beta=pd.DataFrame(np.zeros((3,5)),index=Expiry,columns=Tenor)\n",
    "Cal_Sigma=pd.DataFrame(np.zeros((3,5)),index=Expiry,columns=Tenor)"
   ]
  },
  {
   "cell_type": "code",
   "execution_count": 273,
   "metadata": {},
   "outputs": [],
   "source": [
    "for ex in Expiry:\n",
    "    for te in Tenor:             #Set sigma,T,ATM,strikes\n",
    "        sigma=data.loc[(ex,te), 'ATM']/100\n",
    "        T=int(ex[:-1])\n",
    "        ATM=Swap[te][ex] #ATM and K changes\n",
    "        strikes=s*0.0001+ATM\n",
    "        res = least_squares(lambda x: DD_Calibrate_Price(x,\n",
    "                                          ATM,\n",
    "                                          strikes,\n",
    "                                          T,                                          \n",
    "                                          data.loc[ex,te].values/100),\n",
    "                                          initialGuess_DD,\n",
    "                                          bounds=([0,0],[np.inf,1]))\n",
    "        Cal_Beta[te][ex]= res.x[1]\n",
    "        Cal_Sigma[te][ex]=res.x[0] "
   ]
  },
  {
   "cell_type": "code",
   "execution_count": 274,
   "metadata": {},
   "outputs": [
    {
     "data": {
      "text/html": [
       "<div>\n",
       "<style scoped>\n",
       "    .dataframe tbody tr th:only-of-type {\n",
       "        vertical-align: middle;\n",
       "    }\n",
       "\n",
       "    .dataframe tbody tr th {\n",
       "        vertical-align: top;\n",
       "    }\n",
       "\n",
       "    .dataframe thead th {\n",
       "        text-align: right;\n",
       "    }\n",
       "</style>\n",
       "<table border=\"1\" class=\"dataframe\">\n",
       "  <thead>\n",
       "    <tr style=\"text-align: right;\">\n",
       "      <th></th>\n",
       "      <th>1Y</th>\n",
       "      <th>2Y</th>\n",
       "      <th>3Y</th>\n",
       "      <th>5Y</th>\n",
       "      <th>10Y</th>\n",
       "    </tr>\n",
       "  </thead>\n",
       "  <tbody>\n",
       "    <tr>\n",
       "      <th>1Y</th>\n",
       "      <td>0.091373</td>\n",
       "      <td>0.088585</td>\n",
       "      <td>0.113040</td>\n",
       "      <td>0.157930</td>\n",
       "      <td>0.218611</td>\n",
       "    </tr>\n",
       "    <tr>\n",
       "      <th>5Y</th>\n",
       "      <td>0.043586</td>\n",
       "      <td>0.076612</td>\n",
       "      <td>0.137187</td>\n",
       "      <td>0.242607</td>\n",
       "      <td>0.342015</td>\n",
       "    </tr>\n",
       "    <tr>\n",
       "      <th>10Y</th>\n",
       "      <td>0.349670</td>\n",
       "      <td>0.319363</td>\n",
       "      <td>0.317573</td>\n",
       "      <td>0.450592</td>\n",
       "      <td>0.294454</td>\n",
       "    </tr>\n",
       "  </tbody>\n",
       "</table>\n",
       "</div>"
      ],
      "text/plain": [
       "           1Y        2Y        3Y        5Y       10Y\n",
       "1Y   0.091373  0.088585  0.113040  0.157930  0.218611\n",
       "5Y   0.043586  0.076612  0.137187  0.242607  0.342015\n",
       "10Y  0.349670  0.319363  0.317573  0.450592  0.294454"
      ]
     },
     "execution_count": 274,
     "metadata": {},
     "output_type": "execute_result"
    }
   ],
   "source": [
    "Cal_Beta"
   ]
  },
  {
   "cell_type": "code",
   "execution_count": 275,
   "metadata": {
    "scrolled": true
   },
   "outputs": [
    {
     "data": {
      "text/html": [
       "<div>\n",
       "<style scoped>\n",
       "    .dataframe tbody tr th:only-of-type {\n",
       "        vertical-align: middle;\n",
       "    }\n",
       "\n",
       "    .dataframe tbody tr th {\n",
       "        vertical-align: top;\n",
       "    }\n",
       "\n",
       "    .dataframe thead th {\n",
       "        text-align: right;\n",
       "    }\n",
       "</style>\n",
       "<table border=\"1\" class=\"dataframe\">\n",
       "  <thead>\n",
       "    <tr style=\"text-align: right;\">\n",
       "      <th></th>\n",
       "      <th>1Y</th>\n",
       "      <th>2Y</th>\n",
       "      <th>3Y</th>\n",
       "      <th>5Y</th>\n",
       "      <th>10Y</th>\n",
       "    </tr>\n",
       "  </thead>\n",
       "  <tbody>\n",
       "    <tr>\n",
       "      <th>1Y</th>\n",
       "      <td>0.253213</td>\n",
       "      <td>0.315450</td>\n",
       "      <td>0.319594</td>\n",
       "      <td>0.272127</td>\n",
       "      <td>0.251564</td>\n",
       "    </tr>\n",
       "    <tr>\n",
       "      <th>5Y</th>\n",
       "      <td>0.301314</td>\n",
       "      <td>0.312628</td>\n",
       "      <td>0.308432</td>\n",
       "      <td>0.270126</td>\n",
       "      <td>0.247266</td>\n",
       "    </tr>\n",
       "    <tr>\n",
       "      <th>10Y</th>\n",
       "      <td>0.358868</td>\n",
       "      <td>0.361375</td>\n",
       "      <td>0.360982</td>\n",
       "      <td>0.308723</td>\n",
       "      <td>0.293560</td>\n",
       "    </tr>\n",
       "  </tbody>\n",
       "</table>\n",
       "</div>"
      ],
      "text/plain": [
       "           1Y        2Y        3Y        5Y       10Y\n",
       "1Y   0.253213  0.315450  0.319594  0.272127  0.251564\n",
       "5Y   0.301314  0.312628  0.308432  0.270126  0.247266\n",
       "10Y  0.358868  0.361375  0.360982  0.308723  0.293560"
      ]
     },
     "execution_count": 275,
     "metadata": {},
     "output_type": "execute_result"
    }
   ],
   "source": [
    "Cal_Sigma"
   ]
  },
  {
   "cell_type": "code",
   "execution_count": 293,
   "metadata": {},
   "outputs": [
    {
     "data": {
      "text/plain": [
       "[0.554502757133349,\n",
       " 0.42809941908055305,\n",
       " 0.341406211367684,\n",
       " 0.28198630536672453,\n",
       " 0.2609676872417633,\n",
       " 0.2452843327845279,\n",
       " 0.23448090151771211,\n",
       " 0.22756517171148277,\n",
       " 0.2220430362308178,\n",
       " 0.22217478704742094,\n",
       " 0.22447851062813087]"
      ]
     },
     "execution_count": 293,
     "metadata": {},
     "output_type": "execute_result"
    }
   ],
   "source": [
    "imp=[impliedVolatility(ATM, x, p, T, 0.218611) for x,p in zip(strikes,price_DD)]\n",
    "imp"
   ]
  },
  {
   "cell_type": "code",
   "execution_count": 292,
   "metadata": {},
   "outputs": [
    {
     "data": {
      "text/plain": [
       "[0.007585807249162973,\n",
       " 0.005804041704016601,\n",
       " 0.004105440429910859,\n",
       " 0.0025778988891478442,\n",
       " 0.0019266690592587728,\n",
       " 0.0013801807242516733,\n",
       " 0.0009514121305087151,\n",
       " 0.0006358039772170604,\n",
       " 0.0002701111522343565,\n",
       " 0.00011232683366091826,\n",
       " 4.6974903489505644e-05]"
      ]
     },
     "execution_count": 292,
     "metadata": {},
     "output_type": "execute_result"
    }
   ],
   "source": [
    "ATM=0.038436\n",
    "sigma=0.2447\n",
    "T=1\n",
    "s=np.array([-200,-150,-100,-50,-25,0,25,50,100,150,200])\n",
    "strikes=s*0.0001+ATM\n",
    "price_DD=[DD_Model(ATM,x, data.loc['1Y','10Y'][i]/100, T,0.218611 ,'Call') for i,x in zip(range(len(strikes)),strikes)]\n",
    "price_DD"
   ]
  },
  {
   "cell_type": "code",
   "execution_count": 294,
   "metadata": {},
   "outputs": [
    {
     "data": {
      "text/plain": [
       "[<matplotlib.lines.Line2D at 0x2f2de408c88>]"
      ]
     },
     "execution_count": 294,
     "metadata": {},
     "output_type": "execute_result"
    },
    {
     "data": {
      "image/png": "[encoded data removed]",
      "text/plain": [
       "<Figure size 432x288 with 1 Axes>"
      ]
     },
     "metadata": {},
     "output_type": "display_data"
    }
   ],
   "source": [
    "plt.plot(strikes,data.loc['1Y','10Y']/100,'go')\n",
    "plt.plot(strikes,imp)"
   ]
  },
  {
   "cell_type": "code",
   "execution_count": 259,
   "metadata": {
    "scrolled": true
   },
   "outputs": [
    {
     "data": {
      "text/plain": [
       "array([0.018436, 0.023436, 0.028436, 0.033436, 0.035936, 0.038436,\n",
       "       0.040936, 0.043436, 0.048436, 0.053436, 0.058436])"
      ]
     },
     "execution_count": 259,
     "metadata": {},
     "output_type": "execute_result"
    }
   ],
   "source": [
    "initialGuess_DD=[0.1,0.2]\n",
    "ATM=0.038436\n",
    "sigma=0.2447\n",
    "T=1\n",
    "s=np.array([-200,-150,-100,-50,-25,0,25,50,100,150,200])\n",
    "strikes=s*0.0001+ATM\n",
    "strikes"
   ]
  },
  {
   "cell_type": "code",
   "execution_count": 260,
   "metadata": {},
   "outputs": [],
   "source": [
    "res = least_squares(lambda x: DD_Calibrate_Price(x,\n",
    "                                          ATM,\n",
    "                                          strikes,\n",
    "                                          T,                \n",
    "                                          data.loc['1Y','10Y'].values/100),\n",
    "                                          initialGuess_DD,\n",
    "                                          bounds=([0,0],[np.inf,1]))"
   ]
  },
  {
   "cell_type": "code",
   "execution_count": 261,
   "metadata": {},
   "outputs": [],
   "source": [
    "sigma=res.x[0]\n",
    "beta=res.x[1]"
   ]
  },
  {
   "cell_type": "code",
   "execution_count": 262,
   "metadata": {},
   "outputs": [
    {
     "data": {
      "text/plain": [
       "0.25153422958290855"
      ]
     },
     "execution_count": 262,
     "metadata": {},
     "output_type": "execute_result"
    }
   ],
   "source": [
    "sigma"
   ]
  },
  {
   "cell_type": "code",
   "execution_count": 263,
   "metadata": {},
   "outputs": [
    {
     "data": {
      "text/plain": [
       "0.2867933421869416"
      ]
     },
     "execution_count": 263,
     "metadata": {},
     "output_type": "execute_result"
    }
   ],
   "source": [
    "beta"
   ]
  },
  {
   "cell_type": "code",
   "execution_count": 126,
   "metadata": {},
   "outputs": [
    {
     "data": {
      "text/plain": [
       "[<matplotlib.lines.Line2D at 0x2f2c320b400>]"
      ]
     },
     "execution_count": 126,
     "metadata": {},
     "output_type": "execute_result"
    },
    {
     "data": {
      "image/png": "[encoded data removed]",
      "text/plain": [
       "<Figure size 432x288 with 1 Axes>"
      ]
     },
     "metadata": {},
     "output_type": "display_data"
    }
   ],
   "source": [
    "plt.plot(strikes,[Notion*DD_Model(ATM,x, data.loc['10Y','10Y'][i]/100, T, 1,'Call') for i,x in zip(range(len(strikes)),strikes)],'go')\n",
    "plt.plot(strikes,[Notion*DD_Model(ATM, x, sigma, T,0.295704311, 'Call') for x in strikes])"
   ]
  },
  {
   "cell_type": "code",
   "execution_count": 116,
   "metadata": {},
   "outputs": [
    {
     "data": {
      "text/plain": [
       "30.509"
      ]
     },
     "execution_count": 116,
     "metadata": {},
     "output_type": "execute_result"
    }
   ],
   "source": [
    "data.loc['10Y','10Y'][1]"
   ]
  },
  {
   "cell_type": "code",
   "execution_count": 108,
   "metadata": {},
   "outputs": [
    {
     "data": {
      "text/plain": [
       "[1.2463110255095462,\n",
       " 1.1030791149360326,\n",
       " 0.9714239743417821,\n",
       " 0.8513100156295426,\n",
       " 0.7955185484801052,\n",
       " 0.7425164261316074,\n",
       " 0.6922512798864217,\n",
       " 0.6446625639731133,\n",
       " 0.5572371112420685,\n",
       " 0.4796285544578012,\n",
       " 0.41115499558742674]"
      ]
     },
     "execution_count": 108,
     "metadata": {},
     "output_type": "execute_result"
    }
   ],
   "source": [
    "[Notion*DD_Model(ATM, x, sigma, T,0.295704311, 'Call') for x in strikes]"
   ]
  },
  {
   "cell_type": "markdown",
   "metadata": {},
   "source": [
    "PVBP Calculation"
   ]
  },
  {
   "cell_type": "code",
   "execution_count": 189,
   "metadata": {},
   "outputs": [
    {
     "data": {
      "text/html": [
       "<div>\n",
       "<style scoped>\n",
       "    .dataframe tbody tr th:only-of-type {\n",
       "        vertical-align: middle;\n",
       "    }\n",
       "\n",
       "    .dataframe tbody tr th {\n",
       "        vertical-align: top;\n",
       "    }\n",
       "\n",
       "    .dataframe thead th {\n",
       "        text-align: right;\n",
       "    }\n",
       "</style>\n",
       "<table border=\"1\" class=\"dataframe\">\n",
       "  <thead>\n",
       "    <tr style=\"text-align: right;\">\n",
       "      <th></th>\n",
       "      <th>Tenor</th>\n",
       "      <th>OIS</th>\n",
       "      <th>ON</th>\n",
       "      <th>DF</th>\n",
       "      <th>L</th>\n",
       "      <th>Fwd_L</th>\n",
       "      <th>L_DF</th>\n",
       "    </tr>\n",
       "  </thead>\n",
       "  <tbody>\n",
       "    <tr>\n",
       "      <th>0</th>\n",
       "      <td>0.5</td>\n",
       "      <td>0.00250</td>\n",
       "      <td>0.002497</td>\n",
       "      <td>0.998752</td>\n",
       "      <td>0.025</td>\n",
       "      <td>0.025000</td>\n",
       "      <td>0.987654</td>\n",
       "    </tr>\n",
       "    <tr>\n",
       "      <th>1</th>\n",
       "      <td>1.0</td>\n",
       "      <td>0.00300</td>\n",
       "      <td>0.002996</td>\n",
       "      <td>0.997009</td>\n",
       "      <td>0.028</td>\n",
       "      <td>0.031005</td>\n",
       "      <td>0.972577</td>\n",
       "    </tr>\n",
       "    <tr>\n",
       "      <th>2</th>\n",
       "      <td>1.5</td>\n",
       "      <td>NaN</td>\n",
       "      <td>0.003327</td>\n",
       "      <td>0.995022</td>\n",
       "      <td>NaN</td>\n",
       "      <td>0.031752</td>\n",
       "      <td>0.957378</td>\n",
       "    </tr>\n",
       "    <tr>\n",
       "      <th>3</th>\n",
       "      <td>2.0</td>\n",
       "      <td>0.00325</td>\n",
       "      <td>0.003495</td>\n",
       "      <td>0.993035</td>\n",
       "      <td>0.030</td>\n",
       "      <td>0.032264</td>\n",
       "      <td>0.942178</td>\n",
       "    </tr>\n",
       "    <tr>\n",
       "      <th>4</th>\n",
       "      <td>2.5</td>\n",
       "      <td>NaN</td>\n",
       "      <td>0.003524</td>\n",
       "      <td>0.991228</td>\n",
       "      <td>NaN</td>\n",
       "      <td>0.034219</td>\n",
       "      <td>0.926329</td>\n",
       "    </tr>\n",
       "  </tbody>\n",
       "</table>\n",
       "</div>"
      ],
      "text/plain": [
       "   Tenor      OIS        ON        DF      L     Fwd_L      L_DF\n",
       "0    0.5  0.00250  0.002497  0.998752  0.025  0.025000  0.987654\n",
       "1    1.0  0.00300  0.002996  0.997009  0.028  0.031005  0.972577\n",
       "2    1.5      NaN  0.003327  0.995022    NaN  0.031752  0.957378\n",
       "3    2.0  0.00325  0.003495  0.993035  0.030  0.032264  0.942178\n",
       "4    2.5      NaN  0.003524  0.991228    NaN  0.034219  0.926329"
      ]
     },
     "execution_count": 189,
     "metadata": {},
     "output_type": "execute_result"
    }
   ],
   "source": [
    "df=pd.read_csv('E:/Github/QF605_Fixed_Income_Sec/df.csv')\n",
    "df.head()"
   ]
  },
  {
   "cell_type": "code",
   "execution_count": 190,
   "metadata": {},
   "outputs": [],
   "source": [
    "def PVBP(start,stop,coupon_period=0.5):\n",
    "    value=0.0\n",
    "    time=np.arange(start,stop+0.1,0.5)\n",
    "    for i in time:\n",
    "        value=value+df[df['Tenor']==i].DF.values\n",
    "    return value*coupon_period"
   ]
  },
  {
   "cell_type": "markdown",
   "metadata": {},
   "source": [
    "Q3: Pricing the following swaption"
   ]
  },
  {
   "cell_type": "markdown",
   "metadata": {},
   "source": [
    " payer 2y x 10y K = 1%; 2%; 3%; 4%; 5%; 6%; 7%; 8%"
   ]
  },
  {
   "cell_type": "code",
   "execution_count": 226,
   "metadata": {},
   "outputs": [],
   "source": [
    "from scipy.interpolate import interp1d"
   ]
  },
  {
   "cell_type": "code",
   "execution_count": 228,
   "metadata": {},
   "outputs": [],
   "source": [
    "def interpol(x1,y1,x2,y2,x):\n",
    "    return y1+x*((y2-y1)/(x2-x1))"
   ]
  },
  {
   "cell_type": "code",
   "execution_count": 232,
   "metadata": {
    "scrolled": true
   },
   "outputs": [
    {
     "data": {
      "text/plain": [
       "24.302500000000002"
      ]
     },
     "execution_count": 232,
     "metadata": {},
     "output_type": "execute_result"
    }
   ],
   "source": [
    "strike=np.arange(0.01,0.081,0.01)\n",
    "T=2\n",
    "ATM=interpol(1,26.355,5,22.250,2)\n",
    "ATM"
   ]
  },
  {
   "cell_type": "code",
   "execution_count": null,
   "metadata": {},
   "outputs": [],
   "source": []
  },
  {
   "cell_type": "code",
   "execution_count": 237,
   "metadata": {},
   "outputs": [],
   "source": [
    "alpha=interpol(1,0.156374,5,0.181581,2)\n",
    "rho=interpol(1,-0.193758,5,-0.070987,2)\n",
    "nu=interpol(1,0.534328,5,0.205102,2)"
   ]
  },
  {
   "cell_type": "code",
   "execution_count": 240,
   "metadata": {},
   "outputs": [],
   "source": [
    "def Black76Pay(F, K, T, sigma):\n",
    "    d1 = (np.log(F/K)+(sigma**2/2)*T) / (sigma*np.sqrt(T))\n",
    "    d2 = d1 - sigma*np.sqrt(T)\n",
    "    return (F*ss.norm.cdf(d1) - K*ss.norm.cdf(d2))\n",
    "\n",
    "def Black76Rec(F, K, T, sigma):\n",
    "    d1 = (np.log(F/K)+(sigma**2/2)*T) / (sigma*np.sqrt(T))\n",
    "    d2 = d1 - sigma*np.sqrt(T)\n",
    "    return (K*ss.norm.cdf(-d2) - F*ss.norm.cdf(-d1))"
   ]
  },
  {
   "cell_type": "code",
   "execution_count": 245,
   "metadata": {},
   "outputs": [],
   "source": [
    "value=[Notion*Black76Pay(ATM,x,T,SABR(ATM,x,T,alpha,0.9,rho,nu)) for x in strike]"
   ]
  },
  {
   "cell_type": "code",
   "execution_count": 246,
   "metadata": {},
   "outputs": [
    {
     "data": {
      "text/plain": [
       "[242925.0000000441,\n",
       " 242825.0000001502,\n",
       " 242725.00000031712,\n",
       " 242625.00000054738,\n",
       " 242525.00000084421,\n",
       " 242425.00000121119,\n",
       " 242325.00000165196,\n",
       " 242225.00000217033]"
      ]
     },
     "execution_count": 246,
     "metadata": {},
     "output_type": "execute_result"
    }
   ],
   "source": [
    "value"
   ]
  },
  {
   "cell_type": "code",
   "execution_count": null,
   "metadata": {},
   "outputs": [],
   "source": []
  }
 ],
 "metadata": {
  "kernelspec": {
   "display_name": "Python 3",
   "language": "python",
   "name": "python3"
  },
  "language_info": {
   "codemirror_mode": {
    "name": "ipython",
    "version": 3
   },
   "file_extension": ".py",
   "mimetype": "text/x-python",
   "name": "python",
   "nbconvert_exporter": "python",
   "pygments_lexer": "ipython3",
   "version": "3.6.5"
  }
 },
 "nbformat": 4,
 "nbformat_minor": 2
}
